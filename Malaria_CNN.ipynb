{
  "nbformat": 4,
  "nbformat_minor": 0,
  "metadata": {
    "colab": {
      "name": "MalariaCNN.ipynb",
      "provenance": [],
      "collapsed_sections": [],
      "authorship_tag": "ABX9TyPTB26XE4+f4wGTNnt8fh/r",
      "include_colab_link": true
    },
    "kernelspec": {
      "name": "python3",
      "display_name": "Python 3"
    }
  },
  "cells": [
    {
      "cell_type": "markdown",
      "metadata": {
        "id": "view-in-github",
        "colab_type": "text"
      },
      "source": [
        "<a href=\"https://colab.research.google.com/github/AnkitaKumariJain14/Malaria-Detection-Using-ML/blob/master/Malaria_CNN.ipynb\" target=\"_parent\"><img src=\"https://colab.research.google.com/assets/colab-badge.svg\" alt=\"Open In Colab\"/></a>"
      ]
    },
    {
      "cell_type": "code",
      "metadata": {
        "id": "dQh7BVOuv1a6",
        "colab_type": "code",
        "colab": {}
      },
      "source": [
        "!wget ftp://lhcftp.nlm.nih.gov/Open-Access-Datasets/Malaria/cell_images.zip\n",
        "!unzip cell_images.zip\n",
        "!rm cell_images/Uninfected/Thumbs.db\n",
        "!rm cell_images/Parasitized/Thumbs.db"
      ],
      "execution_count": null,
      "outputs": []
    },
    {
      "cell_type": "code",
      "metadata": {
        "id": "HM0ji6LAyO9I",
        "colab_type": "code",
        "colab": {}
      },
      "source": [
        "#Importing Necessary Libraries.\n",
        "from PIL import Image\n",
        "import numpy as np\n",
        "import os\n",
        "import cv2\n",
        "import keras\n",
        "from keras.utils import np_utils\n",
        "from keras.models import Sequential\n",
        "from keras.layers import Conv2D,MaxPooling2D,Dense,Flatten"
      ],
      "execution_count": 12,
      "outputs": []
    },
    {
      "cell_type": "code",
      "metadata": {
        "id": "6HpBl1u8yh6r",
        "colab_type": "code",
        "colab": {}
      },
      "source": [
        "\n",
        "data=[]\n",
        "labels=[]\n",
        "Parasitized=os.listdir('/content/cell_images/Parasitized/') \n",
        "for a in Parasitized:\n",
        "    try:\n",
        "        image=cv2.imread(\"/content/cell_images/Parasitized/\"+a)\n",
        "        image_from_array = Image.fromarray(image, 'RGB')\n",
        "        size_image = image_from_array.resize((64, 64))\n",
        "        data.append(np.array(size_image))\n",
        "        labels.append(1)\n",
        "    except AttributeError:\n",
        "        print(\"\")\n",
        "\n",
        "Uninfected= os.listdir('/content/cell_images/Uninfected/')\n",
        "for b in Uninfected:\n",
        "    try:\n",
        "        image=cv2.imread(\"/content/cell_images/Uninfected/\"+b)\n",
        "        image_from_array = Image.fromarray(image, 'RGB')\n",
        "        size_image = image_from_array.resize((64, 64))\n",
        "        data.append(np.array(size_image))\n",
        "        labels.append(0)\n",
        "    except AttributeError:\n",
        "        print(\"\")"
      ],
      "execution_count": 3,
      "outputs": []
    },
    {
      "cell_type": "code",
      "metadata": {
        "id": "FPG9XIaeMTtJ",
        "colab_type": "code",
        "colab": {}
      },
      "source": [
        "Cells=np.array(data)\n",
        "labels=np.array(labels)\n",
        "s=np.arange(Cells.shape[0])\n",
        "np.random.shuffle(s)\n",
        "Cells=Cells[s]\n",
        "labels=labels[s]\n",
        "num_classes=len(np.unique(labels))\n",
        "len_data=len(Cells)"
      ],
      "execution_count": 4,
      "outputs": []
    },
    {
      "cell_type": "code",
      "metadata": {
        "id": "ZQmq4560Mc6z",
        "colab_type": "code",
        "colab": {}
      },
      "source": [
        "(x_train,x_test)=Cells[(int)(0.1*len_data):],Cells[:(int)(0.1*len_data)]\n",
        "x_train = x_train.astype('float32')/255 # As we are working on image data we are normalizing data by divinding 255.\n",
        "x_test = x_test.astype('float32')/255\n",
        "train_len=len(x_train)\n",
        "test_len=len(x_test)"
      ],
      "execution_count": 5,
      "outputs": []
    },
    {
      "cell_type": "code",
      "metadata": {
        "id": "AX-i_-IlMft_",
        "colab_type": "code",
        "colab": {}
      },
      "source": [
        "(y_train,y_test)=labels[(int)(0.1*len_data):],labels[:(int)(0.1*len_data)]\n",
        "#Doing One hot encoding as classifier has multiple classes\n",
        "y_train=keras.utils.to_categorical(y_train,num_classes)\n",
        "y_test=keras.utils.to_categorical(y_test,num_classes)"
      ],
      "execution_count": 6,
      "outputs": []
    },
    {
      "cell_type": "code",
      "metadata": {
        "id": "P44XC2K6zUcN",
        "colab_type": "code",
        "colab": {
          "base_uri": "https://localhost:8080/",
          "height": 433
        },
        "outputId": "0c2c4b99-270e-4acb-bfb6-a8d2dbfabd52"
      },
      "source": [
        "model=Sequential()\n",
        "model.add(Conv2D(filters=6,kernel_size=2,padding=\"same\",activation=\"relu\",input_shape=(64,64,3)))\n",
        "model.add(MaxPooling2D(pool_size=2))\n",
        "model.add(Conv2D(filters=16,kernel_size=2,padding=\"same\",activation=\"relu\"))\n",
        "model.add(MaxPooling2D(pool_size=2))\n",
        "model.add(Flatten())\n",
        "model.add(Dense(120,activation=\"relu\"))\n",
        "model.add(Dense(84,activation=\"relu\"))\n",
        "model.add(Dense(2,activation=\"softmax\"))#2 represent output layer neurons \n",
        "model.summary()"
      ],
      "execution_count": 7,
      "outputs": [
        {
          "output_type": "stream",
          "text": [
            "Model: \"sequential\"\n",
            "_________________________________________________________________\n",
            "Layer (type)                 Output Shape              Param #   \n",
            "=================================================================\n",
            "conv2d (Conv2D)              (None, 64, 64, 6)         78        \n",
            "_________________________________________________________________\n",
            "max_pooling2d (MaxPooling2D) (None, 32, 32, 6)         0         \n",
            "_________________________________________________________________\n",
            "conv2d_1 (Conv2D)            (None, 32, 32, 16)        400       \n",
            "_________________________________________________________________\n",
            "max_pooling2d_1 (MaxPooling2 (None, 16, 16, 16)        0         \n",
            "_________________________________________________________________\n",
            "flatten (Flatten)            (None, 4096)              0         \n",
            "_________________________________________________________________\n",
            "dense (Dense)                (None, 120)               491640    \n",
            "_________________________________________________________________\n",
            "dense_1 (Dense)              (None, 84)                10164     \n",
            "_________________________________________________________________\n",
            "dense_2 (Dense)              (None, 2)                 170       \n",
            "=================================================================\n",
            "Total params: 502,452\n",
            "Trainable params: 502,452\n",
            "Non-trainable params: 0\n",
            "_________________________________________________________________\n"
          ],
          "name": "stdout"
        }
      ]
    },
    {
      "cell_type": "code",
      "metadata": {
        "id": "TPw9NiX61hiJ",
        "colab_type": "code",
        "colab": {}
      },
      "source": [
        "# compile the model with loss as categorical_crossentropy and using adam optimizer you can test result by trying RMSProp as well as Momentum\n",
        "model.compile(loss='categorical_crossentropy', optimizer='adam', metrics=['accuracy'])"
      ],
      "execution_count": 8,
      "outputs": []
    },
    {
      "cell_type": "code",
      "metadata": {
        "id": "cY2o9kdu3mZw",
        "colab_type": "code",
        "colab": {
          "base_uri": "https://localhost:8080/",
          "height": 728
        },
        "outputId": "ba8f767e-808c-4810-c216-ed7cecf47ea1"
      },
      "source": [
        "#Fit the model with min batch size as 50[can tune batch size to some factor of 2^power ] \n",
        "model.fit(x_train,y_train,batch_size=50,epochs=20,verbose=1)"
      ],
      "execution_count": 9,
      "outputs": [
        {
          "output_type": "stream",
          "text": [
            "Epoch 1/20\n",
            "497/497 [==============================] - 42s 85ms/step - loss: 0.5357 - accuracy: 0.7164\n",
            "Epoch 2/20\n",
            "497/497 [==============================] - 42s 85ms/step - loss: 0.2437 - accuracy: 0.9054\n",
            "Epoch 3/20\n",
            "497/497 [==============================] - 42s 84ms/step - loss: 0.1784 - accuracy: 0.9370\n",
            "Epoch 4/20\n",
            "497/497 [==============================] - 42s 84ms/step - loss: 0.1439 - accuracy: 0.9509\n",
            "Epoch 5/20\n",
            "497/497 [==============================] - 42s 85ms/step - loss: 0.1183 - accuracy: 0.9576\n",
            "Epoch 6/20\n",
            "497/497 [==============================] - 42s 85ms/step - loss: 0.0948 - accuracy: 0.9679\n",
            "Epoch 7/20\n",
            "497/497 [==============================] - 42s 85ms/step - loss: 0.0793 - accuracy: 0.9721\n",
            "Epoch 8/20\n",
            "497/497 [==============================] - 46s 93ms/step - loss: 0.0635 - accuracy: 0.9777\n",
            "Epoch 9/20\n",
            "497/497 [==============================] - 43s 86ms/step - loss: 0.0455 - accuracy: 0.9848\n",
            "Epoch 10/20\n",
            "497/497 [==============================] - 42s 85ms/step - loss: 0.0356 - accuracy: 0.9876\n",
            "Epoch 11/20\n",
            "497/497 [==============================] - 42s 85ms/step - loss: 0.0271 - accuracy: 0.9902\n",
            "Epoch 12/20\n",
            "497/497 [==============================] - 42s 85ms/step - loss: 0.0255 - accuracy: 0.9914\n",
            "Epoch 13/20\n",
            "497/497 [==============================] - 42s 85ms/step - loss: 0.0153 - accuracy: 0.9948\n",
            "Epoch 14/20\n",
            "497/497 [==============================] - 42s 85ms/step - loss: 0.0112 - accuracy: 0.9960\n",
            "Epoch 15/20\n",
            "497/497 [==============================] - 43s 86ms/step - loss: 0.0180 - accuracy: 0.9936\n",
            "Epoch 16/20\n",
            "497/497 [==============================] - 42s 85ms/step - loss: 0.0088 - accuracy: 0.9975\n",
            "Epoch 17/20\n",
            "497/497 [==============================] - 42s 85ms/step - loss: 0.0190 - accuracy: 0.9947\n",
            "Epoch 18/20\n",
            "497/497 [==============================] - 42s 86ms/step - loss: 0.0121 - accuracy: 0.9959\n",
            "Epoch 19/20\n",
            "497/497 [==============================] - 43s 86ms/step - loss: 0.0066 - accuracy: 0.9977\n",
            "Epoch 20/20\n",
            "497/497 [==============================] - 42s 85ms/step - loss: 0.0118 - accuracy: 0.9959\n"
          ],
          "name": "stdout"
        },
        {
          "output_type": "execute_result",
          "data": {
            "text/plain": [
              "<tensorflow.python.keras.callbacks.History at 0x7fa34ba00668>"
            ]
          },
          "metadata": {
            "tags": []
          },
          "execution_count": 9
        }
      ]
    },
    {
      "cell_type": "code",
      "metadata": {
        "id": "SBvV4Cau4B0r",
        "colab_type": "code",
        "colab": {
          "base_uri": "https://localhost:8080/",
          "height": 69
        },
        "outputId": "d5715a6f-c410-4664-b055-4af94acc296d"
      },
      "source": [
        "accuracy = model.evaluate(x_test, y_test, verbose=1)\n",
        "print('\\n', 'Test_Accuracy:-', accuracy[1])"
      ],
      "execution_count": 10,
      "outputs": [
        {
          "output_type": "stream",
          "text": [
            "87/87 [==============================] - 3s 29ms/step - loss: 0.4098 - accuracy: 0.9376\n",
            "\n",
            " Test_Accuracy:- 0.9375680685043335\n"
          ],
          "name": "stdout"
        }
      ]
    },
    {
      "cell_type": "code",
      "metadata": {
        "id": "VJ_i14zf41PS",
        "colab_type": "code",
        "colab": {}
      },
      "source": [
        "from keras.models import load_model\n",
        "model.save('cells.h5')"
      ],
      "execution_count": 11,
      "outputs": []
    },
    {
      "cell_type": "code",
      "metadata": {
        "id": "2ef-RNXMRbzS",
        "colab_type": "code",
        "colab": {}
      },
      "source": [
        ""
      ],
      "execution_count": 11,
      "outputs": []
    }
  ]
}